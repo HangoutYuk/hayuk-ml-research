{
  "cells": [
    {
      "attachments": {},
      "cell_type": "markdown",
      "metadata": {
        "id": "2BVqcbSq20C5"
      },
      "source": [
        "# Notebook for Dataset Translating"
      ]
    },
    {
      "cell_type": "code",
      "execution_count": null,
      "metadata": {
        "id": "353Nit6tVZDj"
      },
      "outputs": [],
      "source": [
        "# FOR TRANSLATOR\n",
        "import csv\n",
        "import pandas as pd"
      ]
    },
    {
      "cell_type": "code",
      "execution_count": null,
      "metadata": {
        "colab": {
          "base_uri": "https://localhost:8080/"
        },
        "id": "O9-4RCjkYmIO",
        "outputId": "5c2c8928-9147-4810-d479-a1c5193c7c5d"
      },
      "outputs": [],
      "source": [
        "# !pip install deep-translator"
      ]
    },
    {
      "cell_type": "code",
      "execution_count": null,
      "metadata": {
        "colab": {
          "base_uri": "https://localhost:8080/"
        },
        "id": "xDm1bQ1VVe2P",
        "outputId": "3b87046d-c521-4e20-adbb-c70d7618ddfe"
      },
      "outputs": [],
      "source": [
        "# mount from google drive\n",
        "from google.colab import drive\n",
        "drive.mount('/gdrive')\n",
        "%cd /gdrive"
      ]
    },
    {
      "cell_type": "code",
      "execution_count": null,
      "metadata": {
        "colab": {
          "base_uri": "https://localhost:8080/",
          "height": 267
        },
        "id": "GCD_wx6cVylb",
        "outputId": "d5681dfd-9051-4c89-dc46-2080f4ca3b71"
      },
      "outputs": [],
      "source": [
        "# import dataset\n",
        "dataset = pd.read_csv(\"/gdrive/MyDrive/dataset/hayuk/google_maps/contoh-google-maps.csv\")\n",
        "dataset.head()"
      ]
    },
    {
      "cell_type": "code",
      "execution_count": null,
      "metadata": {
        "id": "KR9nFyjqV9nz"
      },
      "outputs": [],
      "source": [
        "labels = []\n",
        "sentences = []\n",
        "rating = []\n",
        "with open(\"/gdrive/MyDrive/dataset/hayuk/restoran_review.csv\") as csv_file:\n",
        "  csv_reader = csv.reader(csv_file, delimiter=',')\n",
        "  next(csv_reader)\n",
        "  for row in csv_reader:\n",
        "    sentences.append(row[0])\n",
        "    labels.append(int(row[1]))\n",
        "    # rating.append(int(row[1]))"
      ]
    },
    {
      "cell_type": "code",
      "execution_count": null,
      "metadata": {
        "colab": {
          "base_uri": "https://localhost:8080/"
        },
        "id": "sOt4CzdtHrNb",
        "outputId": "46c7a46f-542a-4b0c-bb2b-d7d7721e4af4"
      },
      "outputs": [],
      "source": [
        "# To see how much data distributed\n",
        "def cek_jml(list, index):\n",
        "  jml = 0\n",
        "  for i in list:\n",
        "    if int(i)==int(index):\n",
        "      jml += 1\n",
        "  return jml\n",
        "positif = cek_jml(labels, 1)\n",
        "negatif = cek_jml(labels, 0)\n",
        "print(f\"positif = {positif} dan negatif = {negatif}\")\n",
        "\n",
        "# print(f'rating 1 : {cek_jml(rating, 1)}')\n",
        "# print(f'rating 2 : {cek_jml(rating, 2)}')\n",
        "# print(f'rating 3 : {cek_jml(rating, 3)}')\n",
        "# print(f'rating 4 : {cek_jml(rating, 4)}')\n",
        "# print(f'rating 5 : {cek_jml(rating, 5)}')"
      ]
    },
    {
      "cell_type": "code",
      "execution_count": null,
      "metadata": {
        "id": "uGqlSNvOYkDf"
      },
      "outputs": [],
      "source": [
        "# For Processing Certain Parts of Text\n",
        "def potong(kalimat):\n",
        "  index = 0\n",
        "  for huruf in kalimat:\n",
        "    if huruf.isalpha():\n",
        "      index = kalimat.index(huruf)\n",
        "      break\n",
        "  return kalimat[index:]"
      ]
    },
    {
      "cell_type": "code",
      "execution_count": null,
      "metadata": {
        "colab": {
          "base_uri": "https://localhost:8080/"
        },
        "id": "WukuRxGealx1",
        "outputId": "e4e1f9f5-8e0a-4af1-cab6-c307795b1117"
      },
      "outputs": [],
      "source": [
        "temp = []\n",
        "for kalimat in sentences:\n",
        "  temp.append(potong(kalimat))\n",
        "sentences = temp\n",
        "for i in range(7):\n",
        "  print(sentences[i])"
      ]
    },
    {
      "cell_type": "code",
      "execution_count": null,
      "metadata": {
        "id": "gryStisdWkzP"
      },
      "outputs": [],
      "source": [
        "# Translating Process\n",
        "from deep_translator import GoogleTranslator\n",
        "temp = []\n",
        "for kalimat in sentences:\n",
        "  translated = GoogleTranslator(source='en', target='id').translate(kalimat)\n",
        "  temp.append(translated)\n",
        "sentences = temp"
      ]
    },
    {
      "cell_type": "code",
      "execution_count": null,
      "metadata": {
        "colab": {
          "base_uri": "https://localhost:8080/"
        },
        "id": "7PdOL4-YbQ1u",
        "outputId": "8bd4524c-bea2-4a0d-dd35-98a7b0b1daf8"
      },
      "outputs": [],
      "source": [
        "temp"
      ]
    },
    {
      "cell_type": "code",
      "execution_count": null,
      "metadata": {
        "id": "t6zCGmAmXk4N"
      },
      "outputs": [],
      "source": [
        "dic = {\n",
        "    \"text\" : sentences,\n",
        "    \"sentiment\" : labels\n",
        "}\n",
        "df = pd.DataFrame(dic)\n",
        "df.to_csv(\"/gdrive/MyDrive/dataset/hayuk/translated_restoran_review.csv\", index=False)"
      ]
    }
  ],
  "metadata": {
    "colab": {
      "provenance": []
    },
    "kernelspec": {
      "display_name": "Python 3",
      "name": "python3"
    },
    "language_info": {
      "name": "python"
    }
  },
  "nbformat": 4,
  "nbformat_minor": 0
}
