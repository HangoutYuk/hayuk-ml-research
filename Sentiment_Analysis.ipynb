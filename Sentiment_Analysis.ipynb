{
  "cells": [
    {
      "attachments": {},
      "cell_type": "markdown",
      "metadata": {
        "id": "inag4L0hb1pd"
      },
      "source": [
        "# Sentiment Analysis for Hayuk\n"
      ]
    },
    {
      "cell_type": "code",
      "execution_count": 1,
      "metadata": {
        "id": "zuX7jEc3qmkg"
      },
      "outputs": [],
      "source": [
        "import numpy as np\n",
        "import tensorflow as tf\n",
        "import pandas as pd\n",
        "import re\n",
        "import string\n",
        "import os"
      ]
    },
    {
      "cell_type": "code",
      "execution_count": null,
      "metadata": {
        "id": "8m2wbg5ZxWdV"
      },
      "outputs": [],
      "source": [
        "from sklearn.model_selection import train_test_split\n",
        "from cleantext import clean"
      ]
    },
    {
      "cell_type": "code",
      "execution_count": 3,
      "metadata": {
        "id": "nttTzywUbe4L"
      },
      "outputs": [],
      "source": [
        "DATASET_PATH = os.path.join(os.getcwd(), \"data\", \"processed\", \"dataset_sentiments.csv\")"
      ]
    },
    {
      "cell_type": "code",
      "execution_count": 4,
      "metadata": {
        "id": "VCItPCdLdmX6"
      },
      "outputs": [],
      "source": [
        "def cek_jml(list, index):\n",
        "  jml = 0\n",
        "  for i in list:\n",
        "    if int(i)==int(index):\n",
        "      jml += 1\n",
        "  return jml"
      ]
    },
    {
      "attachments": {},
      "cell_type": "markdown",
      "metadata": {
        "id": "QAm4nhCwg3Aa"
      },
      "source": [
        "### Import Dataset"
      ]
    },
    {
      "cell_type": "code",
      "execution_count": null,
      "metadata": {
        "colab": {
          "base_uri": "https://localhost:8080/"
        },
        "id": "bZsJR4xcr700",
        "outputId": "8829f0a7-6efe-4bf0-94bf-b76efbec2ac3"
      },
      "outputs": [],
      "source": [
        "# from google.colab import drive\n",
        "# drive.mount('/gdrive')\n",
        "# %cd /gdrive"
      ]
    },
    {
      "cell_type": "code",
      "execution_count": 5,
      "metadata": {
        "colab": {
          "base_uri": "https://localhost:8080/",
          "height": 206
        },
        "id": "Bz_2pbE8qsMx",
        "outputId": "ef3c2d72-3fe2-471e-f827-9ceefce00100"
      },
      "outputs": [
        {
          "data": {
            "text/html": [
              "<div>\n",
              "<style scoped>\n",
              "    .dataframe tbody tr th:only-of-type {\n",
              "        vertical-align: middle;\n",
              "    }\n",
              "\n",
              "    .dataframe tbody tr th {\n",
              "        vertical-align: top;\n",
              "    }\n",
              "\n",
              "    .dataframe thead th {\n",
              "        text-align: right;\n",
              "    }\n",
              "</style>\n",
              "<table border=\"1\" class=\"dataframe\">\n",
              "  <thead>\n",
              "    <tr style=\"text-align: right;\">\n",
              "      <th></th>\n",
              "      <th>text</th>\n",
              "      <th>sentiment</th>\n",
              "    </tr>\n",
              "  </thead>\n",
              "  <tbody>\n",
              "    <tr>\n",
              "      <th>0</th>\n",
              "      <td>Jika makanannya tidak cukup buruk untuk Anda, ...</td>\n",
              "      <td>0</td>\n",
              "    </tr>\n",
              "    <tr>\n",
              "      <th>1</th>\n",
              "      <td>kesana buat Foto Booth hahahha.. parkir motor ...</td>\n",
              "      <td>1</td>\n",
              "    </tr>\n",
              "    <tr>\n",
              "      <th>2</th>\n",
              "      <td>Mall sepi, pertama kali datang jam 10.30 di pa...</td>\n",
              "      <td>1</td>\n",
              "    </tr>\n",
              "    <tr>\n",
              "      <th>3</th>\n",
              "      <td>Akan kembali perjalanan berikutnya.</td>\n",
              "      <td>1</td>\n",
              "    </tr>\n",
              "    <tr>\n",
              "      <th>4</th>\n",
              "      <td>Diketahui Mal Tunjungan Plaza kembali kebakara...</td>\n",
              "      <td>0</td>\n",
              "    </tr>\n",
              "  </tbody>\n",
              "</table>\n",
              "</div>"
            ],
            "text/plain": [
              "                                                text  sentiment\n",
              "0  Jika makanannya tidak cukup buruk untuk Anda, ...          0\n",
              "1  kesana buat Foto Booth hahahha.. parkir motor ...          1\n",
              "2  Mall sepi, pertama kali datang jam 10.30 di pa...          1\n",
              "3                Akan kembali perjalanan berikutnya.          1\n",
              "4  Diketahui Mal Tunjungan Plaza kembali kebakara...          0"
            ]
          },
          "execution_count": 5,
          "metadata": {},
          "output_type": "execute_result"
        }
      ],
      "source": [
        "dataset = pd.read_csv(DATASET_PATH, encoding='utf-8')\n",
        "dataset.head()"
      ]
    },
    {
      "cell_type": "code",
      "execution_count": 6,
      "metadata": {},
      "outputs": [],
      "source": [
        "dataset['text'] = dataset['text'].apply(lambda x: clean(x, no_emoji=True))"
      ]
    },
    {
      "cell_type": "code",
      "execution_count": 7,
      "metadata": {},
      "outputs": [
        {
          "name": "stdout",
          "output_type": "stream",
          "text": [
            "Jml Labels : 1358\n",
            "Jml Sentences : 1358\n"
          ]
        }
      ],
      "source": [
        "labels = list(dataset['sentiment'])\n",
        "sentences = list(dataset['text'])\n",
        "print(f\"Jml Labels : {len(labels)}\")\n",
        "print(f\"Jml Sentences : {len(sentences)}\")"
      ]
    },
    {
      "cell_type": "code",
      "execution_count": 8,
      "metadata": {
        "colab": {
          "base_uri": "https://localhost:8080/"
        },
        "id": "xwiBVMephaSm",
        "outputId": "e12a1e3b-2a14-438b-a6c9-5f7d5475bd4f"
      },
      "outputs": [
        {
          "name": "stdout",
          "output_type": "stream",
          "text": [
            "Total Positive = 679\n",
            "Total Negative = 679\n"
          ]
        }
      ],
      "source": [
        "print(f\"Total Positive = {cek_jml(labels, 1)}\")\n",
        "print(f\"Total Negative = {cek_jml(labels, 0)}\")"
      ]
    },
    {
      "attachments": {},
      "cell_type": "markdown",
      "metadata": {
        "id": "7ySCMKGchIII"
      },
      "source": [
        "## Dive in to Preprocess"
      ]
    },
    {
      "attachments": {},
      "cell_type": "markdown",
      "metadata": {},
      "source": [
        "In this section, We try to preprocess Data"
      ]
    },
    {
      "cell_type": "code",
      "execution_count": 9,
      "metadata": {
        "id": "g6xgrrCZq7V4"
      },
      "outputs": [],
      "source": [
        "# Sastrawi\n",
        "from Sastrawi.Stemmer.StemmerFactory import StemmerFactory\n",
        "\n",
        "factory = StemmerFactory()\n",
        "stemmer = factory.create_stemmer()"
      ]
    },
    {
      "cell_type": "code",
      "execution_count": 11,
      "metadata": {
        "id": "-3an4kLdf75N"
      },
      "outputs": [],
      "source": [
        "\n",
        "def preprocess(sentence):\n",
        "    sentence = sentence.lower().strip()\n",
        "    words = sentence.split()\n",
        "    temp = []\n",
        "    for i in words:\n",
        "        normal_string = re.sub(\"[^A-Z]\", \"\", i, 0, re.IGNORECASE)\n",
        "        temp.append(normal_string)\n",
        "    sentence = \" \".join(temp)\n",
        "\n",
        "    return sentence"
      ]
    },
    {
      "cell_type": "code",
      "execution_count": 12,
      "metadata": {
        "id": "3Zg4Ti7laHj2"
      },
      "outputs": [],
      "source": [
        "temp = []\n",
        "for kalimat in sentences:\n",
        "  removed = preprocess(kalimat)\n",
        "  removed = stemmer.stem(removed)\n",
        "  temp.append(removed)\n",
        "sentences = temp\n",
        "temp = []"
      ]
    },
    {
      "cell_type": "code",
      "execution_count": 14,
      "metadata": {
        "id": "hKfhdjZhh1LU"
      },
      "outputs": [
        {
          "name": "stdout",
          "output_type": "stream",
          "text": [
            "<class 'list'>\n",
            "<class 'numpy.ndarray'>\n"
          ]
        }
      ],
      "source": [
        "# SPLIT DATA\n",
        "train_sentences, validation_sentences, train_labels, validation_labels = train_test_split(sentences, labels, random_state=5, train_size = .70)\n",
        "train_sentences, test_sentences, train_labels, test_labels = train_test_split(train_sentences, train_labels, random_state=5, train_size = .70)\n",
        "\n",
        "# Convert to Numpy Array\n",
        "# Train \n",
        "train_labels = np.array(train_labels)\n",
        "train_sentences = np.array(train_sentences)\n",
        "\n",
        "# Validation\n",
        "validation_labels = np.array(validation_labels)\n",
        "validation_sentences = np.array(validation_sentences)\n",
        "\n",
        "# Test\n",
        "test_labels = np.array(test_labels)\n",
        "test_sentences = np.array(test_sentences)\n"
      ]
    },
    {
      "cell_type": "code",
      "execution_count": 15,
      "metadata": {
        "colab": {
          "base_uri": "https://localhost:8080/"
        },
        "id": "XRxQ-s9gesHh",
        "outputId": "93583d5d-9f0a-4f1f-d728-ecd6991557d0"
      },
      "outputs": [
        {
          "name": "stdout",
          "output_type": "stream",
          "text": [
            "jumlah data training : 665\n",
            "jumlah data validation : 408\n",
            "jumlah data test : 285\n"
          ]
        }
      ],
      "source": [
        "print(f'jumlah data training : {len(train_sentences)}')\n",
        "print(f'jumlah data validation : {len(validation_sentences)}')\n",
        "print(f'jumlah data test : {len(test_sentences)}')"
      ]
    },
    {
      "attachments": {},
      "cell_type": "markdown",
      "metadata": {},
      "source": [
        "Make a Vectorized Layer"
      ]
    },
    {
      "cell_type": "code",
      "execution_count": 16,
      "metadata": {},
      "outputs": [],
      "source": [
        "def normalize(input_data):\n",
        "    lowercase = tf.strings.lower(input_data)\n",
        "    return tf.strings.regex_replace(lowercase, f\"[{re.escape(string.punctuation)}]\", \"\")"
      ]
    },
    {
      "cell_type": "code",
      "execution_count": 17,
      "metadata": {},
      "outputs": [],
      "source": [
        "vectorize_layer = tf.keras.layers.TextVectorization( \n",
        "    standardize=normalize,\n",
        "    max_tokens=500,\n",
        "    output_mode='int',\n",
        "    output_sequence_length=16)\n",
        "\n",
        "vectorize_layer.adapt(train_sentences)"
      ]
    },
    {
      "attachments": {},
      "cell_type": "markdown",
      "metadata": {},
      "source": [
        "Make Model"
      ]
    },
    {
      "cell_type": "code",
      "execution_count": 19,
      "metadata": {},
      "outputs": [
        {
          "name": "stdout",
          "output_type": "stream",
          "text": [
            "Model: \"model_1\"\n",
            "_________________________________________________________________\n",
            " Layer (type)                Output Shape              Param #   \n",
            "=================================================================\n",
            " text (InputLayer)           [(None, 1)]               0         \n",
            "                                                                 \n",
            " text_vectorization (TextVec  (None, 16)               0         \n",
            " torization)                                                     \n",
            "                                                                 \n",
            " embedding_1 (Embedding)     (None, 16, 64)            32064     \n",
            "                                                                 \n",
            " bidirectional (Bidirectiona  (None, 16)               4672      \n",
            " l)                                                              \n",
            "                                                                 \n",
            " dense_2 (Dense)             (None, 16)                272       \n",
            "                                                                 \n",
            " dense_3 (Dense)             (None, 1)                 17        \n",
            "                                                                 \n",
            "=================================================================\n",
            "Total params: 37,025\n",
            "Trainable params: 37,025\n",
            "Non-trainable params: 0\n",
            "_________________________________________________________________\n"
          ]
        }
      ],
      "source": [
        "text_input = tf.keras.Input(shape=(1,), dtype=tf.string, name='text')\n",
        "x = vectorize_layer(text_input)\n",
        "x = tf.keras.layers.Embedding(500 + 1, 64)(x)\n",
        "# x = tf.keras.layers.LSTM(units=8)(x)\n",
        "x = tf.keras.layers.Bidirectional(tf.keras.layers.LSTM(8))(x)\n",
        "x = tf.keras.layers.Dense(16, activation='relu')(x)\n",
        "predictions = tf.keras.layers.Dense(1, activation='sigmoid')(x)\n",
        "\n",
        "model = tf.keras.Model(text_input, predictions)\n",
        "\n",
        "model.summary()"
      ]
    },
    {
      "cell_type": "code",
      "execution_count": 20,
      "metadata": {
        "id": "PdVbzqj85NKC"
      },
      "outputs": [],
      "source": [
        "# Compile the model\n",
        "model.compile(loss='binary_crossentropy', optimizer=tf.keras.optimizers.Adam(learning_rate=0.0001), metrics=['accuracy'])"
      ]
    },
    {
      "attachments": {},
      "cell_type": "markdown",
      "metadata": {},
      "source": [
        "Training Model"
      ]
    },
    {
      "cell_type": "code",
      "execution_count": 21,
      "metadata": {
        "colab": {
          "base_uri": "https://localhost:8080/"
        },
        "id": "iHhPKjzG5RDd",
        "outputId": "aa1bacdf-7cd1-4fd8-8472-610d7f52a763"
      },
      "outputs": [
        {
          "name": "stdout",
          "output_type": "stream",
          "text": [
            "Epoch 1/35\n",
            "21/21 - 6s - loss: 0.6932 - accuracy: 0.5023 - val_loss: 0.6929 - val_accuracy: 0.5049 - 6s/epoch - 281ms/step\n",
            "Epoch 2/35\n",
            "21/21 - 0s - loss: 0.6926 - accuracy: 0.5173 - val_loss: 0.6926 - val_accuracy: 0.5123 - 249ms/epoch - 12ms/step\n",
            "Epoch 3/35\n",
            "21/21 - 0s - loss: 0.6919 - accuracy: 0.5383 - val_loss: 0.6923 - val_accuracy: 0.5196 - 233ms/epoch - 11ms/step\n",
            "Epoch 4/35\n",
            "21/21 - 0s - loss: 0.6913 - accuracy: 0.5594 - val_loss: 0.6919 - val_accuracy: 0.5392 - 215ms/epoch - 10ms/step\n",
            "Epoch 5/35\n",
            "21/21 - 0s - loss: 0.6904 - accuracy: 0.6045 - val_loss: 0.6914 - val_accuracy: 0.5441 - 202ms/epoch - 10ms/step\n",
            "Epoch 6/35\n",
            "21/21 - 0s - loss: 0.6895 - accuracy: 0.6466 - val_loss: 0.6908 - val_accuracy: 0.5735 - 205ms/epoch - 10ms/step\n",
            "Epoch 7/35\n",
            "21/21 - 0s - loss: 0.6884 - accuracy: 0.6782 - val_loss: 0.6901 - val_accuracy: 0.5980 - 241ms/epoch - 11ms/step\n",
            "Epoch 8/35\n",
            "21/21 - 0s - loss: 0.6872 - accuracy: 0.7128 - val_loss: 0.6893 - val_accuracy: 0.6054 - 210ms/epoch - 10ms/step\n",
            "Epoch 9/35\n",
            "21/21 - 0s - loss: 0.6858 - accuracy: 0.7278 - val_loss: 0.6885 - val_accuracy: 0.6152 - 259ms/epoch - 12ms/step\n",
            "Epoch 10/35\n",
            "21/21 - 0s - loss: 0.6842 - accuracy: 0.7383 - val_loss: 0.6874 - val_accuracy: 0.6299 - 271ms/epoch - 13ms/step\n",
            "Epoch 11/35\n",
            "21/21 - 0s - loss: 0.6823 - accuracy: 0.7669 - val_loss: 0.6861 - val_accuracy: 0.6642 - 283ms/epoch - 13ms/step\n",
            "Epoch 12/35\n",
            "21/21 - 0s - loss: 0.6802 - accuracy: 0.7805 - val_loss: 0.6847 - val_accuracy: 0.6618 - 298ms/epoch - 14ms/step\n",
            "Epoch 13/35\n",
            "21/21 - 0s - loss: 0.6776 - accuracy: 0.7880 - val_loss: 0.6830 - val_accuracy: 0.6765 - 341ms/epoch - 16ms/step\n",
            "Epoch 14/35\n",
            "21/21 - 0s - loss: 0.6747 - accuracy: 0.8030 - val_loss: 0.6811 - val_accuracy: 0.6838 - 305ms/epoch - 15ms/step\n",
            "Epoch 15/35\n",
            "21/21 - 0s - loss: 0.6713 - accuracy: 0.8060 - val_loss: 0.6788 - val_accuracy: 0.6912 - 438ms/epoch - 21ms/step\n",
            "Epoch 16/35\n",
            "21/21 - 0s - loss: 0.6675 - accuracy: 0.8105 - val_loss: 0.6762 - val_accuracy: 0.6936 - 340ms/epoch - 16ms/step\n",
            "Epoch 17/35\n",
            "21/21 - 0s - loss: 0.6631 - accuracy: 0.8090 - val_loss: 0.6731 - val_accuracy: 0.6936 - 313ms/epoch - 15ms/step\n",
            "Epoch 18/35\n",
            "21/21 - 0s - loss: 0.6581 - accuracy: 0.8150 - val_loss: 0.6695 - val_accuracy: 0.6961 - 317ms/epoch - 15ms/step\n",
            "Epoch 19/35\n",
            "21/21 - 0s - loss: 0.6523 - accuracy: 0.8226 - val_loss: 0.6654 - val_accuracy: 0.7059 - 327ms/epoch - 16ms/step\n",
            "Epoch 20/35\n",
            "21/21 - 0s - loss: 0.6456 - accuracy: 0.8226 - val_loss: 0.6608 - val_accuracy: 0.6936 - 322ms/epoch - 15ms/step\n",
            "Epoch 21/35\n",
            "21/21 - 0s - loss: 0.6382 - accuracy: 0.8256 - val_loss: 0.6548 - val_accuracy: 0.7108 - 311ms/epoch - 15ms/step\n",
            "Epoch 22/35\n",
            "21/21 - 0s - loss: 0.6292 - accuracy: 0.8211 - val_loss: 0.6489 - val_accuracy: 0.7083 - 290ms/epoch - 14ms/step\n",
            "Epoch 23/35\n",
            "21/21 - 0s - loss: 0.6194 - accuracy: 0.8241 - val_loss: 0.6414 - val_accuracy: 0.7157 - 303ms/epoch - 14ms/step\n",
            "Epoch 24/35\n",
            "21/21 - 0s - loss: 0.6078 - accuracy: 0.8271 - val_loss: 0.6336 - val_accuracy: 0.7132 - 310ms/epoch - 15ms/step\n",
            "Epoch 25/35\n",
            "21/21 - 0s - loss: 0.5955 - accuracy: 0.8301 - val_loss: 0.6248 - val_accuracy: 0.7181 - 315ms/epoch - 15ms/step\n",
            "Epoch 26/35\n",
            "21/21 - 0s - loss: 0.5815 - accuracy: 0.8286 - val_loss: 0.6149 - val_accuracy: 0.7230 - 304ms/epoch - 14ms/step\n",
            "Epoch 27/35\n",
            "21/21 - 0s - loss: 0.5664 - accuracy: 0.8361 - val_loss: 0.6044 - val_accuracy: 0.7255 - 295ms/epoch - 14ms/step\n",
            "Epoch 28/35\n",
            "21/21 - 0s - loss: 0.5498 - accuracy: 0.8481 - val_loss: 0.5932 - val_accuracy: 0.7279 - 301ms/epoch - 14ms/step\n",
            "Epoch 29/35\n",
            "21/21 - 0s - loss: 0.5323 - accuracy: 0.8451 - val_loss: 0.5817 - val_accuracy: 0.7353 - 292ms/epoch - 14ms/step\n",
            "Epoch 30/35\n",
            "21/21 - 0s - loss: 0.5135 - accuracy: 0.8556 - val_loss: 0.5702 - val_accuracy: 0.7451 - 301ms/epoch - 14ms/step\n",
            "Epoch 31/35\n",
            "21/21 - 0s - loss: 0.4942 - accuracy: 0.8647 - val_loss: 0.5571 - val_accuracy: 0.7475 - 295ms/epoch - 14ms/step\n",
            "Epoch 32/35\n",
            "21/21 - 0s - loss: 0.4743 - accuracy: 0.8707 - val_loss: 0.5447 - val_accuracy: 0.7525 - 287ms/epoch - 14ms/step\n",
            "Epoch 33/35\n",
            "21/21 - 0s - loss: 0.4544 - accuracy: 0.8782 - val_loss: 0.5329 - val_accuracy: 0.7549 - 284ms/epoch - 14ms/step\n",
            "Epoch 34/35\n",
            "21/21 - 0s - loss: 0.4348 - accuracy: 0.8797 - val_loss: 0.5220 - val_accuracy: 0.7598 - 288ms/epoch - 14ms/step\n",
            "Epoch 35/35\n",
            "21/21 - 0s - loss: 0.4147 - accuracy: 0.8797 - val_loss: 0.5118 - val_accuracy: 0.7549 - 314ms/epoch - 15ms/step\n"
          ]
        }
      ],
      "source": [
        "num_epochs = 35\n",
        "labels = np.array(labels)\n",
        "# Train the model\n",
        "history = model.fit(train_sentences, train_labels, epochs=num_epochs, validation_data=(validation_sentences, validation_labels), verbose=2)"
      ]
    },
    {
      "attachments": {},
      "cell_type": "markdown",
      "metadata": {},
      "source": [
        "Plotting Accuracy and Loss"
      ]
    },
    {
      "cell_type": "code",
      "execution_count": 22,
      "metadata": {
        "colab": {
          "base_uri": "https://localhost:8080/",
          "height": 881
        },
        "id": "1SXekZEU5-n3",
        "outputId": "5845ba1f-8823-421f-94dd-ec3a10d7d863"
      },
      "outputs": [
        {
          "data": {
            "image/png": "[encoded data removed]",
            "text/plain": [
              "<Figure size 640x480 with 1 Axes>"
            ]
          },
          "metadata": {},
          "output_type": "display_data"
        },
        {
          "data": {
            "image/png": "[encoded data removed]",
            "text/plain": [
              "<Figure size 640x480 with 1 Axes>"
            ]
          },
          "metadata": {},
          "output_type": "display_data"
        }
      ],
      "source": [
        "import matplotlib.pyplot as plt\n",
        "\n",
        "# Plot utility\n",
        "def plot_graphs(history, string):\n",
        "  plt.plot(history.history[string])\n",
        "  plt.plot(history.history['val_'+string])\n",
        "  plt.xlabel(\"Epochs\")\n",
        "  plt.ylabel(string)\n",
        "  plt.legend([string, 'val_'+string])\n",
        "  plt.show()\n",
        "  \n",
        "# Plot the accuracy and loss\n",
        "plot_graphs(history, \"accuracy\")\n",
        "plot_graphs(history, \"loss\")"
      ]
    },
    {
      "attachments": {},
      "cell_type": "markdown",
      "metadata": {},
      "source": [
        "Evaluate using test data"
      ]
    },
    {
      "cell_type": "code",
      "execution_count": 23,
      "metadata": {
        "colab": {
          "base_uri": "https://localhost:8080/"
        },
        "id": "YOO4t_kOj_hH",
        "outputId": "0979652f-befe-4cbf-eef9-d4f868e72d26"
      },
      "outputs": [
        {
          "name": "stdout",
          "output_type": "stream",
          "text": [
            "5/5 [==============================] - 0s 4ms/step - loss: 0.5338 - accuracy: 0.7228\n",
            "\n",
            "ACCURACY: 0.722806990146637\n",
            "LOSS: 0.5337896943092346\n"
          ]
        }
      ],
      "source": [
        "score = model.evaluate(test_sentences, test_labels, batch_size=64)\n",
        "print()\n",
        "print(\"ACCURACY:\",score[1])\n",
        "print(\"LOSS:\",score[0])"
      ]
    },
    {
      "attachments": {},
      "cell_type": "markdown",
      "metadata": {},
      "source": [
        "# Save the Model"
      ]
    },
    {
      "cell_type": "code",
      "execution_count": 24,
      "metadata": {},
      "outputs": [
        {
          "name": "stderr",
          "output_type": "stream",
          "text": [
            "WARNING:absl:Found untraced functions such as _update_step_xla, lstm_cell_2_layer_call_fn, lstm_cell_2_layer_call_and_return_conditional_losses, lstm_cell_3_layer_call_fn, lstm_cell_3_layer_call_and_return_conditional_losses while saving (showing 5 of 5). These functions will not be directly callable after loading.\n"
          ]
        },
        {
          "name": "stdout",
          "output_type": "stream",
          "text": [
            "INFO:tensorflow:Assets written to: ./models/assets\n"
          ]
        },
        {
          "name": "stderr",
          "output_type": "stream",
          "text": [
            "INFO:tensorflow:Assets written to: ./models/assets\n"
          ]
        }
      ],
      "source": [
        "model_saved_path = \"./models/\"\n",
        "tf.saved_model.save(model, model_saved_path)"
      ]
    },
    {
      "attachments": {},
      "cell_type": "markdown",
      "metadata": {
        "id": "R_zkezZrcC0M"
      },
      "source": [
        "## made with\t&#x1F49D;"
      ]
    },
    {
      "attachments": {},
      "cell_type": "markdown",
      "metadata": {},
      "source": [
        " Development : Load Model To Predict Value"
      ]
    },
    {
      "cell_type": "code",
      "execution_count": 25,
      "metadata": {},
      "outputs": [],
      "source": [
        "new_model = tf.saved_model.load(model_saved_path)"
      ]
    },
    {
      "cell_type": "code",
      "execution_count": 26,
      "metadata": {},
      "outputs": [
        {
          "data": {
            "text/plain": [
              "<tensorflow.python.saved_model.load.Loader._recreate_base_user_object.<locals>._UserObject at 0x297a958af90>"
            ]
          },
          "execution_count": 26,
          "metadata": {},
          "output_type": "execute_result"
        }
      ],
      "source": [
        "new_model"
      ]
    },
    {
      "cell_type": "code",
      "execution_count": 27,
      "metadata": {},
      "outputs": [
        {
          "name": "stdout",
          "output_type": "stream",
          "text": [
            "['Makanan sangat lezat dan bergizi cocok untuk liburan. Sangat direkomendasikan']\n"
          ]
        },
        {
          "data": {
            "text/plain": [
              "0.8082563"
            ]
          },
          "execution_count": 27,
          "metadata": {},
          "output_type": "execute_result"
        }
      ],
      "source": [
        "text_to_predict = [\"Makanan sangat lezat dan bergizi cocok untuk liburan. Sangat direkomendasikan\"]\n",
        "print(text_to_predict)\n",
        "prediction = new_model([text_to_predict])\n",
        "prediction.numpy()[0][0]"
      ]
    }
  ],
  "metadata": {
    "colab": {
      "provenance": []
    },
    "kernelspec": {
      "display_name": "Python 3",
      "name": "python3"
    },
    "language_info": {
      "codemirror_mode": {
        "name": "ipython",
        "version": 3
      },
      "file_extension": ".py",
      "mimetype": "text/x-python",
      "name": "python",
      "nbconvert_exporter": "python",
      "pygments_lexer": "ipython3",
      "version": "3.11.3"
    }
  },
  "nbformat": 4,
  "nbformat_minor": 0
}
