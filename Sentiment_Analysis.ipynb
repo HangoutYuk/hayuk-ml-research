{
  "cells": [
    {
      "attachments": {},
      "cell_type": "markdown",
      "metadata": {
        "id": "inag4L0hb1pd"
      },
      "source": [
        "# Sentiment Analysis for Hayuk\n"
      ]
    },
    {
      "attachments": {},
      "cell_type": "markdown",
      "metadata": {},
      "source": [
        "Code below still need many improvement !!"
      ]
    },
    {
      "cell_type": "code",
      "execution_count": 1,
      "metadata": {
        "id": "zuX7jEc3qmkg"
      },
      "outputs": [],
      "source": [
        "import numpy as np\n",
        "import tensorflow as tf\n",
        "import pandas as pd\n",
        "import csv\n",
        "import re\n",
        "import string\n",
        "import os"
      ]
    },
    {
      "cell_type": "code",
      "execution_count": 2,
      "metadata": {
        "id": "8m2wbg5ZxWdV"
      },
      "outputs": [
        {
          "name": "stderr",
          "output_type": "stream",
          "text": [
            "Since the GPL-licensed package `unidecode` is not installed, using Python's `unicodedata` package which yields worse results.\n"
          ]
        }
      ],
      "source": [
        "from sklearn.model_selection import train_test_split\n",
        "from cleantext import clean"
      ]
    },
    {
      "cell_type": "code",
      "execution_count": 40,
      "metadata": {
        "id": "nttTzywUbe4L"
      },
      "outputs": [],
      "source": [
        "DATASET_PATH = os.path.join(os.getcwd(), \"data\", \"processed\", \"translated_restoran_review.csv\")\n",
        "# STOPWORDS_PATH = \"/gdrive/MyDrive/dataset/hayuk/stopwords.csv\""
      ]
    },
    {
      "cell_type": "code",
      "execution_count": 41,
      "metadata": {
        "id": "VCItPCdLdmX6"
      },
      "outputs": [],
      "source": [
        "# Some Useful Function : Development Purpose Only\n",
        "def takeout(list, iteration):\n",
        "  for i in range(iteration):\n",
        "    print(list[i])\n",
        "\n",
        "def cek_jml(list, index):\n",
        "  jml = 0\n",
        "  for i in list:\n",
        "    if int(i)==int(index):\n",
        "      jml += 1\n",
        "  return jml"
      ]
    },
    {
      "attachments": {},
      "cell_type": "markdown",
      "metadata": {
        "id": "QAm4nhCwg3Aa"
      },
      "source": [
        "### Import Dataset"
      ]
    },
    {
      "cell_type": "code",
      "execution_count": null,
      "metadata": {
        "colab": {
          "base_uri": "https://localhost:8080/"
        },
        "id": "bZsJR4xcr700",
        "outputId": "8829f0a7-6efe-4bf0-94bf-b76efbec2ac3"
      },
      "outputs": [],
      "source": [
        "# from google.colab import drive\n",
        "# drive.mount('/gdrive')\n",
        "# %cd /gdrive"
      ]
    },
    {
      "cell_type": "code",
      "execution_count": 42,
      "metadata": {
        "colab": {
          "base_uri": "https://localhost:8080/",
          "height": 206
        },
        "id": "Bz_2pbE8qsMx",
        "outputId": "ef3c2d72-3fe2-471e-f827-9ceefce00100"
      },
      "outputs": [
        {
          "data": {
            "text/html": [
              "<div>\n",
              "<style scoped>\n",
              "    .dataframe tbody tr th:only-of-type {\n",
              "        vertical-align: middle;\n",
              "    }\n",
              "\n",
              "    .dataframe tbody tr th {\n",
              "        vertical-align: top;\n",
              "    }\n",
              "\n",
              "    .dataframe thead th {\n",
              "        text-align: right;\n",
              "    }\n",
              "</style>\n",
              "<table border=\"1\" class=\"dataframe\">\n",
              "  <thead>\n",
              "    <tr style=\"text-align: right;\">\n",
              "      <th></th>\n",
              "      <th>text</th>\n",
              "      <th>sentiment</th>\n",
              "    </tr>\n",
              "  </thead>\n",
              "  <tbody>\n",
              "    <tr>\n",
              "      <th>0</th>\n",
              "      <td>Wow... Mencintai tempat ini.</td>\n",
              "      <td>1</td>\n",
              "    </tr>\n",
              "    <tr>\n",
              "      <th>1</th>\n",
              "      <td>Kerak tidak baik.</td>\n",
              "      <td>0</td>\n",
              "    </tr>\n",
              "    <tr>\n",
              "      <th>2</th>\n",
              "      <td>Tidak enak dan teksturnya tidak enak.</td>\n",
              "      <td>0</td>\n",
              "    </tr>\n",
              "    <tr>\n",
              "      <th>3</th>\n",
              "      <td>Mampir selama liburan bank akhir Mei dari reko...</td>\n",
              "      <td>1</td>\n",
              "    </tr>\n",
              "    <tr>\n",
              "      <th>4</th>\n",
              "      <td>Pilihan pada menu sangat bagus dan begitu pula...</td>\n",
              "      <td>1</td>\n",
              "    </tr>\n",
              "  </tbody>\n",
              "</table>\n",
              "</div>"
            ],
            "text/plain": [
              "                                                text  sentiment\n",
              "0                       Wow... Mencintai tempat ini.          1\n",
              "1                                  Kerak tidak baik.          0\n",
              "2              Tidak enak dan teksturnya tidak enak.          0\n",
              "3  Mampir selama liburan bank akhir Mei dari reko...          1\n",
              "4  Pilihan pada menu sangat bagus dan begitu pula...          1"
            ]
          },
          "execution_count": 42,
          "metadata": {},
          "output_type": "execute_result"
        }
      ],
      "source": [
        "dataset = pd.read_csv(DATASET_PATH, encoding='utf-8')\n",
        "dataset.head()"
      ]
    },
    {
      "cell_type": "code",
      "execution_count": 43,
      "metadata": {},
      "outputs": [],
      "source": [
        "dataset['text'] = dataset['text'].apply(lambda x: clean(x))"
      ]
    },
    {
      "cell_type": "code",
      "execution_count": 44,
      "metadata": {},
      "outputs": [
        {
          "name": "stdout",
          "output_type": "stream",
          "text": [
            "Jml Labels : 1000\n",
            "Jml Sentences : 1000\n"
          ]
        }
      ],
      "source": [
        "labels = list(dataset['sentiment'])\n",
        "sentences = list(dataset['text'])\n",
        "print(f\"Jml Labels : {len(labels)}\")\n",
        "print(f\"Jml Sentences : {len(sentences)}\")"
      ]
    },
    {
      "attachments": {},
      "cell_type": "markdown",
      "metadata": {},
      "source": [
        "Convert data to list"
      ]
    },
    {
      "cell_type": "code",
      "execution_count": null,
      "metadata": {
        "id": "GaziLftTsyR1"
      },
      "outputs": [],
      "source": [
        "# labels = []\n",
        "# sentences = []\n",
        "# with open(DATASET_PATH) as csv_file:\n",
        "#   csv_reader = csv.reader(csv_file, delimiter=',')\n",
        "#   next(csv_reader)\n",
        "#   for row in csv_reader:\n",
        "#     labels.append(int(row[1]))\n",
        "#     sentences.append(row[0])"
      ]
    },
    {
      "cell_type": "code",
      "execution_count": 45,
      "metadata": {
        "colab": {
          "base_uri": "https://localhost:8080/"
        },
        "id": "xwiBVMephaSm",
        "outputId": "e12a1e3b-2a14-438b-a6c9-5f7d5475bd4f"
      },
      "outputs": [
        {
          "name": "stdout",
          "output_type": "stream",
          "text": [
            "Total Positive = 500\n",
            "Total Negative = 500\n"
          ]
        }
      ],
      "source": [
        "print(f\"Total Positive = {cek_jml(labels, 1)}\")\n",
        "print(f\"Total Negative = {cek_jml(labels, 0)}\")"
      ]
    },
    {
      "cell_type": "code",
      "execution_count": null,
      "metadata": {
        "id": "bg9qIX2rhD1Q"
      },
      "outputs": [],
      "source": [
        "# Note : Still figuring out either use stopwords or not\n",
        "# # import stopwords\n",
        "# jml_kata = 0\n",
        "# stopwords = []\n",
        "# with open(STOPWORDS_PATH) as csv_file:\n",
        "#   csv_reader = csv.reader(csv_file, delimiter=',')\n",
        "#   for row in csv_reader:\n",
        "#     stopwords.append(row[0])\n",
        "#     jml_kata += 1"
      ]
    },
    {
      "cell_type": "code",
      "execution_count": null,
      "metadata": {
        "colab": {
          "base_uri": "https://localhost:8080/"
        },
        "id": "p0CAd_loh9dd",
        "outputId": "97984937-933f-4668-8b2e-87c3a8c2aac0"
      },
      "outputs": [],
      "source": [
        "# print(f\"Total Stopwords = {len(stopwords)}\")"
      ]
    },
    {
      "attachments": {},
      "cell_type": "markdown",
      "metadata": {
        "id": "7ySCMKGchIII"
      },
      "source": [
        "## Dive in to Preprocess"
      ]
    },
    {
      "attachments": {},
      "cell_type": "markdown",
      "metadata": {},
      "source": [
        "In this section, We try to preprocess Data"
      ]
    },
    {
      "cell_type": "code",
      "execution_count": 46,
      "metadata": {
        "id": "g6xgrrCZq7V4"
      },
      "outputs": [],
      "source": [
        "# TAMBAH SASTRAWI\n",
        "\n",
        "# import StemmerFactory class\n",
        "from Sastrawi.Stemmer.StemmerFactory import StemmerFactory\n",
        "\n",
        "# create stemmer\n",
        "# from Sastrawi.StopWordRemover.StopWordRemoverFactory import StopWordRemoverFactory\n",
        "factory = StemmerFactory()\n",
        "stemmer = factory.create_stemmer()\n",
        "\n",
        "# stopword_factory = StopWordRemoverFactory()\n",
        "# stopword = stopword_factory.create_stop_word_remover()"
      ]
    },
    {
      "cell_type": "code",
      "execution_count": 47,
      "metadata": {
        "id": "-3an4kLdf75N"
      },
      "outputs": [],
      "source": [
        "\n",
        "def preprocess(sentence):\n",
        "    sentence = sentence.lower().strip()\n",
        "    words = sentence.split()\n",
        "    temp = []\n",
        "    for i in words:\n",
        "        check_gone = re.sub(\"check-in\", \"\", i, 0, re.IGNORECASE)\n",
        "        normal_string = re.sub(\"[^A-Z]\", \"\", check_gone, 0, re.IGNORECASE)\n",
        "        # stopped = stopword.remove(normal_string)\n",
        "        temp.append(normal_string)\n",
        "    sentence = \" \".join(temp)\n",
        "\n",
        "    return sentence"
      ]
    },
    {
      "cell_type": "code",
      "execution_count": 48,
      "metadata": {
        "id": "3Zg4Ti7laHj2"
      },
      "outputs": [],
      "source": [
        "temp = []\n",
        "for kalimat in sentences:\n",
        "  removed = preprocess(kalimat)\n",
        "  removed = stemmer.stem(removed)\n",
        "  temp.append(removed)\n",
        "sentences = temp\n",
        "temp = []"
      ]
    },
    {
      "cell_type": "code",
      "execution_count": 49,
      "metadata": {
        "colab": {
          "base_uri": "https://localhost:8080/"
        },
        "id": "vCVdtD4ajUiA",
        "outputId": "49f52862-a2e6-4690-b20e-b2a3664fd68f"
      },
      "outputs": [
        {
          "name": "stdout",
          "output_type": "stream",
          "text": [
            "wow cinta tempat ini\n",
            "kerak tidak baik\n",
            "tidak enak dan tekstur tidak enak\n",
            "mampir lama libur bank akhir mei dari rekomendasi rick steve dan suka\n",
            "pilih pada menu sangat bagus dan begitu pula harga\n",
            "sekarang saya jadi marah dan saya ingin pho sial saya\n",
            "jujur rasa tidak segar\n"
          ]
        }
      ],
      "source": [
        "takeout(sentences, 7)"
      ]
    },
    {
      "cell_type": "code",
      "execution_count": 50,
      "metadata": {
        "id": "hKfhdjZhh1LU"
      },
      "outputs": [
        {
          "name": "stdout",
          "output_type": "stream",
          "text": [
            "<class 'list'>\n",
            "<class 'numpy.ndarray'>\n"
          ]
        }
      ],
      "source": [
        "# SPLIT DATA\n",
        "train_sentences, validation_sentences, train_labels, validation_labels = train_test_split(sentences, labels, random_state=0, train_size = .80)\n",
        "train_sentences, test_sentences, train_labels, test_labels = train_test_split(train_sentences, train_labels, random_state=0, train_size = .80)\n",
        "\n",
        "print(type(train_sentences))\n",
        "# Convert to Numpy Array\n",
        "# Train \n",
        "train_labels = np.array(train_labels)\n",
        "train_sentences = np.array(train_sentences)\n",
        "\n",
        "# Validation\n",
        "validation_labels = np.array(validation_labels)\n",
        "validation_sentences = np.array(validation_sentences)\n",
        "\n",
        "# Test\n",
        "test_labels = np.array(test_labels)\n",
        "test_sentences = np.array(test_sentences)\n",
        "\n",
        "print(type(train_sentences))"
      ]
    },
    {
      "cell_type": "code",
      "execution_count": 51,
      "metadata": {
        "colab": {
          "base_uri": "https://localhost:8080/"
        },
        "id": "XRxQ-s9gesHh",
        "outputId": "93583d5d-9f0a-4f1f-d728-ecd6991557d0"
      },
      "outputs": [
        {
          "name": "stdout",
          "output_type": "stream",
          "text": [
            "jumlah data training : 640\n",
            "jumlah data validation : 200\n",
            "jumlah data test : 160\n"
          ]
        }
      ],
      "source": [
        "print(f'jumlah data training : {len(train_sentences)}')\n",
        "print(f'jumlah data validation : {len(validation_sentences)}')\n",
        "print(f'jumlah data test : {len(test_sentences)}')"
      ]
    },
    {
      "attachments": {},
      "cell_type": "markdown",
      "metadata": {},
      "source": [
        "Make a Vectorized Layer"
      ]
    },
    {
      "cell_type": "code",
      "execution_count": 52,
      "metadata": {},
      "outputs": [],
      "source": [
        "def normalize(input_data):\n",
        "    lowercase = tf.strings.lower(input_data)\n",
        "    return tf.strings.regex_replace(lowercase, f\"[{re.escape(string.punctuation)}]\", \"\")"
      ]
    },
    {
      "cell_type": "code",
      "execution_count": 53,
      "metadata": {},
      "outputs": [],
      "source": [
        "vectorize_layer = tf.keras.layers.TextVectorization( \n",
        "    standardize=normalize,\n",
        "    max_tokens=500,\n",
        "    output_mode='int',\n",
        "    output_sequence_length=16)\n",
        "\n",
        "vectorize_layer.adapt(train_sentences)"
      ]
    },
    {
      "attachments": {},
      "cell_type": "markdown",
      "metadata": {},
      "source": [
        "Make Model"
      ]
    },
    {
      "cell_type": "code",
      "execution_count": 54,
      "metadata": {},
      "outputs": [
        {
          "name": "stdout",
          "output_type": "stream",
          "text": [
            "Model: \"model_5\"\n",
            "_________________________________________________________________\n",
            " Layer (type)                Output Shape              Param #   \n",
            "=================================================================\n",
            " text (InputLayer)           [(None, 1)]               0         \n",
            "                                                                 \n",
            " text_vectorization_3 (TextV  (None, 16)               0         \n",
            " ectorization)                                                   \n",
            "                                                                 \n",
            " embedding_5 (Embedding)     (None, 16, 64)            32064     \n",
            "                                                                 \n",
            " lstm_5 (LSTM)               (None, 8)                 2336      \n",
            "                                                                 \n",
            " dense_10 (Dense)            (None, 4)                 36        \n",
            "                                                                 \n",
            " dense_11 (Dense)            (None, 1)                 5         \n",
            "                                                                 \n",
            "=================================================================\n",
            "Total params: 34,441\n",
            "Trainable params: 34,441\n",
            "Non-trainable params: 0\n",
            "_________________________________________________________________\n"
          ]
        }
      ],
      "source": [
        "text_input = tf.keras.Input(shape=(1,), dtype=tf.string, name='text')\n",
        "x = vectorize_layer(text_input)\n",
        "x = tf.keras.layers.Embedding(500 + 1, 64)(x)\n",
        "x = tf.keras.layers.LSTM(units=8)(x)\n",
        "# x = tf.keras.layers.GlobalAveragePooling1D()(x)\n",
        "# x = tf.keras.layers.Flatten()(x)\n",
        "x = tf.keras.layers.Dense(4, activation='relu')(x)\n",
        "predictions = tf.keras.layers.Dense(1, activation='sigmoid')(x)\n",
        "\n",
        "model = tf.keras.Model(text_input, predictions)\n",
        "\n",
        "model.summary()"
      ]
    },
    {
      "cell_type": "code",
      "execution_count": 67,
      "metadata": {
        "colab": {
          "base_uri": "https://localhost:8080/"
        },
        "id": "byPdV4_k48jp",
        "outputId": "00886273-e12d-4979-e117-94a9e53a3e67"
      },
      "outputs": [],
      "source": [
        "# # Build the model\n",
        "# model = tf.keras.Sequential([\n",
        "#     tf.keras.layers.Embedding(500, 32, input_length=16),\n",
        "#     # tf.keras.layers.Conv1D(128, 5, activation='relu'),\n",
        "#     tf.keras.layers.GlobalAveragePooling1D(),\n",
        "#     # tf.keras.layers.Bidirectional(tf.keras.layers.LSTM(32)),\n",
        "#     tf.keras.layers.Dense(24, activation='relu'),\n",
        "#     tf.keras.layers.Dense(1, activation='sigmoid')\n",
        "# ])\n",
        "\n",
        "# # Print the model summary\n",
        "# model.summary()"
      ]
    },
    {
      "cell_type": "code",
      "execution_count": 55,
      "metadata": {
        "id": "PdVbzqj85NKC"
      },
      "outputs": [],
      "source": [
        "# Compile the model\n",
        "model.compile(loss='binary_crossentropy', optimizer=tf.keras.optimizers.Adam(learning_rate=0.0001), metrics=['accuracy'])"
      ]
    },
    {
      "attachments": {},
      "cell_type": "markdown",
      "metadata": {},
      "source": [
        "Training Model"
      ]
    },
    {
      "cell_type": "code",
      "execution_count": 56,
      "metadata": {
        "colab": {
          "base_uri": "https://localhost:8080/"
        },
        "id": "iHhPKjzG5RDd",
        "outputId": "aa1bacdf-7cd1-4fd8-8472-610d7f52a763"
      },
      "outputs": [
        {
          "name": "stdout",
          "output_type": "stream",
          "text": [
            "Epoch 1/30\n",
            "20/20 - 3s - loss: 0.6933 - accuracy: 0.5078 - val_loss: 0.6927 - val_accuracy: 0.5350 - 3s/epoch - 160ms/step\n",
            "Epoch 2/30\n",
            "20/20 - 0s - loss: 0.6927 - accuracy: 0.5188 - val_loss: 0.6923 - val_accuracy: 0.5350 - 172ms/epoch - 9ms/step\n",
            "Epoch 3/30\n",
            "20/20 - 0s - loss: 0.6920 - accuracy: 0.5406 - val_loss: 0.6919 - val_accuracy: 0.5300 - 206ms/epoch - 10ms/step\n",
            "Epoch 4/30\n",
            "20/20 - 0s - loss: 0.6913 - accuracy: 0.5547 - val_loss: 0.6914 - val_accuracy: 0.5250 - 171ms/epoch - 9ms/step\n",
            "Epoch 5/30\n",
            "20/20 - 0s - loss: 0.6904 - accuracy: 0.5859 - val_loss: 0.6908 - val_accuracy: 0.5600 - 169ms/epoch - 8ms/step\n",
            "Epoch 6/30\n",
            "20/20 - 0s - loss: 0.6895 - accuracy: 0.5906 - val_loss: 0.6902 - val_accuracy: 0.5600 - 175ms/epoch - 9ms/step\n",
            "Epoch 7/30\n",
            "20/20 - 0s - loss: 0.6884 - accuracy: 0.6031 - val_loss: 0.6895 - val_accuracy: 0.5650 - 168ms/epoch - 8ms/step\n",
            "Epoch 8/30\n",
            "20/20 - 0s - loss: 0.6872 - accuracy: 0.6078 - val_loss: 0.6887 - val_accuracy: 0.5600 - 177ms/epoch - 9ms/step\n",
            "Epoch 9/30\n",
            "20/20 - 0s - loss: 0.6857 - accuracy: 0.6172 - val_loss: 0.6871 - val_accuracy: 0.5850 - 174ms/epoch - 9ms/step\n",
            "Epoch 10/30\n",
            "20/20 - 0s - loss: 0.6830 - accuracy: 0.6391 - val_loss: 0.6851 - val_accuracy: 0.6000 - 175ms/epoch - 9ms/step\n",
            "Epoch 11/30\n",
            "20/20 - 0s - loss: 0.6807 - accuracy: 0.6969 - val_loss: 0.6834 - val_accuracy: 0.6350 - 176ms/epoch - 9ms/step\n",
            "Epoch 12/30\n",
            "20/20 - 0s - loss: 0.6777 - accuracy: 0.6812 - val_loss: 0.6810 - val_accuracy: 0.6200 - 184ms/epoch - 9ms/step\n",
            "Epoch 13/30\n",
            "20/20 - 0s - loss: 0.6745 - accuracy: 0.7141 - val_loss: 0.6786 - val_accuracy: 0.6550 - 185ms/epoch - 9ms/step\n",
            "Epoch 14/30\n",
            "20/20 - 0s - loss: 0.6703 - accuracy: 0.7156 - val_loss: 0.6755 - val_accuracy: 0.6600 - 171ms/epoch - 9ms/step\n",
            "Epoch 15/30\n",
            "20/20 - 0s - loss: 0.6658 - accuracy: 0.7437 - val_loss: 0.6720 - val_accuracy: 0.7000 - 165ms/epoch - 8ms/step\n",
            "Epoch 16/30\n",
            "20/20 - 0s - loss: 0.6602 - accuracy: 0.7766 - val_loss: 0.6674 - val_accuracy: 0.6950 - 171ms/epoch - 9ms/step\n",
            "Epoch 17/30\n",
            "20/20 - 0s - loss: 0.6533 - accuracy: 0.7953 - val_loss: 0.6621 - val_accuracy: 0.7200 - 172ms/epoch - 9ms/step\n",
            "Epoch 18/30\n",
            "20/20 - 0s - loss: 0.6453 - accuracy: 0.8188 - val_loss: 0.6556 - val_accuracy: 0.7400 - 182ms/epoch - 9ms/step\n",
            "Epoch 19/30\n",
            "20/20 - 0s - loss: 0.6353 - accuracy: 0.8375 - val_loss: 0.6480 - val_accuracy: 0.7550 - 184ms/epoch - 9ms/step\n",
            "Epoch 20/30\n",
            "20/20 - 0s - loss: 0.6235 - accuracy: 0.8516 - val_loss: 0.6387 - val_accuracy: 0.7600 - 168ms/epoch - 8ms/step\n",
            "Epoch 21/30\n",
            "20/20 - 0s - loss: 0.6097 - accuracy: 0.8766 - val_loss: 0.6281 - val_accuracy: 0.7700 - 170ms/epoch - 8ms/step\n",
            "Epoch 22/30\n",
            "20/20 - 0s - loss: 0.5931 - accuracy: 0.8891 - val_loss: 0.6163 - val_accuracy: 0.7650 - 179ms/epoch - 9ms/step\n",
            "Epoch 23/30\n",
            "20/20 - 0s - loss: 0.5744 - accuracy: 0.9047 - val_loss: 0.6027 - val_accuracy: 0.7850 - 170ms/epoch - 9ms/step\n",
            "Epoch 24/30\n",
            "20/20 - 0s - loss: 0.5539 - accuracy: 0.9094 - val_loss: 0.5882 - val_accuracy: 0.7850 - 171ms/epoch - 9ms/step\n",
            "Epoch 25/30\n",
            "20/20 - 0s - loss: 0.5315 - accuracy: 0.9078 - val_loss: 0.5737 - val_accuracy: 0.7900 - 174ms/epoch - 9ms/step\n",
            "Epoch 26/30\n",
            "20/20 - 0s - loss: 0.5074 - accuracy: 0.9187 - val_loss: 0.5595 - val_accuracy: 0.7800 - 177ms/epoch - 9ms/step\n",
            "Epoch 27/30\n",
            "20/20 - 0s - loss: 0.4840 - accuracy: 0.9266 - val_loss: 0.5450 - val_accuracy: 0.7850 - 173ms/epoch - 9ms/step\n",
            "Epoch 28/30\n",
            "20/20 - 0s - loss: 0.4602 - accuracy: 0.9344 - val_loss: 0.5310 - val_accuracy: 0.7850 - 171ms/epoch - 9ms/step\n",
            "Epoch 29/30\n",
            "20/20 - 0s - loss: 0.4386 - accuracy: 0.9344 - val_loss: 0.5208 - val_accuracy: 0.7950 - 182ms/epoch - 9ms/step\n",
            "Epoch 30/30\n",
            "20/20 - 0s - loss: 0.4167 - accuracy: 0.9359 - val_loss: 0.5068 - val_accuracy: 0.8050 - 184ms/epoch - 9ms/step\n"
          ]
        }
      ],
      "source": [
        "num_epochs = 30\n",
        "labels = np.array(labels)\n",
        "# Train the model\n",
        "history = model.fit(train_sentences, train_labels, epochs=num_epochs, validation_data=(validation_sentences, validation_labels), verbose=2)"
      ]
    },
    {
      "attachments": {},
      "cell_type": "markdown",
      "metadata": {},
      "source": [
        "Plotting Accuracy and Loss"
      ]
    },
    {
      "cell_type": "code",
      "execution_count": 57,
      "metadata": {
        "colab": {
          "base_uri": "https://localhost:8080/",
          "height": 881
        },
        "id": "1SXekZEU5-n3",
        "outputId": "5845ba1f-8823-421f-94dd-ec3a10d7d863"
      },
      "outputs": [
        {
          "data": {
            "image/png": "[encoded data removed]",
            "text/plain": [
              "<Figure size 640x480 with 1 Axes>"
            ]
          },
          "metadata": {},
          "output_type": "display_data"
        },
        {
          "data": {
            "image/png": "[encoded data removed]",
            "text/plain": [
              "<Figure size 640x480 with 1 Axes>"
            ]
          },
          "metadata": {},
          "output_type": "display_data"
        }
      ],
      "source": [
        "import matplotlib.pyplot as plt\n",
        "\n",
        "# Plot utility\n",
        "def plot_graphs(history, string):\n",
        "  plt.plot(history.history[string])\n",
        "  plt.plot(history.history['val_'+string])\n",
        "  plt.xlabel(\"Epochs\")\n",
        "  plt.ylabel(string)\n",
        "  plt.legend([string, 'val_'+string])\n",
        "  plt.show()\n",
        "  \n",
        "# Plot the accuracy and loss\n",
        "plot_graphs(history, \"accuracy\")\n",
        "plot_graphs(history, \"loss\")"
      ]
    },
    {
      "attachments": {},
      "cell_type": "markdown",
      "metadata": {},
      "source": [
        "Evaluate using test data"
      ]
    },
    {
      "cell_type": "code",
      "execution_count": 59,
      "metadata": {
        "colab": {
          "base_uri": "https://localhost:8080/"
        },
        "id": "YOO4t_kOj_hH",
        "outputId": "0979652f-befe-4cbf-eef9-d4f868e72d26"
      },
      "outputs": [
        {
          "name": "stdout",
          "output_type": "stream",
          "text": [
            "3/3 [==============================] - 0s 5ms/step - loss: 0.4933 - accuracy: 0.8313\n",
            "\n",
            "ACCURACY: 0.831250011920929\n",
            "LOSS: 0.4932531416416168\n"
          ]
        }
      ],
      "source": [
        "score = model.evaluate(test_sentences, test_labels, batch_size=64)\n",
        "print()\n",
        "print(\"ACCURACY:\",score[1])\n",
        "print(\"LOSS:\",score[0])"
      ]
    },
    {
      "attachments": {},
      "cell_type": "markdown",
      "metadata": {},
      "source": [
        "# Save the Model"
      ]
    },
    {
      "cell_type": "code",
      "execution_count": 21,
      "metadata": {},
      "outputs": [
        {
          "name": "stderr",
          "output_type": "stream",
          "text": [
            "WARNING:absl:Found untraced functions such as _update_step_xla, lstm_cell_layer_call_fn, lstm_cell_layer_call_and_return_conditional_losses while saving (showing 3 of 3). These functions will not be directly callable after loading.\n"
          ]
        },
        {
          "name": "stdout",
          "output_type": "stream",
          "text": [
            "INFO:tensorflow:Assets written to: ./models/assets\n"
          ]
        },
        {
          "name": "stderr",
          "output_type": "stream",
          "text": [
            "INFO:tensorflow:Assets written to: ./models/assets\n"
          ]
        }
      ],
      "source": [
        "model_saved_path = \"./models/\"\n",
        "tf.saved_model.save(model, model_saved_path)"
      ]
    },
    {
      "attachments": {},
      "cell_type": "markdown",
      "metadata": {
        "id": "R_zkezZrcC0M"
      },
      "source": [
        "## made with\t&#x1F49D;"
      ]
    },
    {
      "attachments": {},
      "cell_type": "markdown",
      "metadata": {},
      "source": [
        " Development : Load Model To Predict Value"
      ]
    },
    {
      "cell_type": "code",
      "execution_count": 22,
      "metadata": {},
      "outputs": [],
      "source": [
        "new_model = tf.saved_model.load(model_saved_path)"
      ]
    },
    {
      "cell_type": "code",
      "execution_count": 23,
      "metadata": {},
      "outputs": [
        {
          "data": {
            "text/plain": [
              "<tensorflow.python.saved_model.load.Loader._recreate_base_user_object.<locals>._UserObject at 0x24768dd5890>"
            ]
          },
          "execution_count": 23,
          "metadata": {},
          "output_type": "execute_result"
        }
      ],
      "source": [
        "new_model"
      ]
    },
    {
      "cell_type": "code",
      "execution_count": 24,
      "metadata": {},
      "outputs": [
        {
          "name": "stdout",
          "output_type": "stream",
          "text": [
            "['Makanan sangat lezat dan bergizi cocok untuk liburan. Sangat direkomendasikan']\n"
          ]
        },
        {
          "data": {
            "text/plain": [
              "0.96118504"
            ]
          },
          "execution_count": 24,
          "metadata": {},
          "output_type": "execute_result"
        }
      ],
      "source": [
        "text_to_predict = [\"Makanan sangat lezat dan bergizi cocok untuk liburan. Sangat direkomendasikan\"]\n",
        "print(text_to_predict)\n",
        "prediction = new_model([text_to_predict])\n",
        "prediction.numpy()[0][0]"
      ]
    }
  ],
  "metadata": {
    "colab": {
      "provenance": []
    },
    "kernelspec": {
      "display_name": "Python 3",
      "name": "python3"
    },
    "language_info": {
      "codemirror_mode": {
        "name": "ipython",
        "version": 3
      },
      "file_extension": ".py",
      "mimetype": "text/x-python",
      "name": "python",
      "nbconvert_exporter": "python",
      "pygments_lexer": "ipython3",
      "version": "3.11.3"
    }
  },
  "nbformat": 4,
  "nbformat_minor": 0
}
